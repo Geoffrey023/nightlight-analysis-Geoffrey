{
 "cells": [
  {
   "cell_type": "markdown",
   "id": "9789b479",
   "metadata": {},
   "source": [
    "# Generating Zonal Statistics with a Custom Script\n",
    "This notebook demonstrates how to generate zonal statistics using a custom Python script, with a focus on analyzing night light intensity across administrative regions in Rwanda. You will learn how to set up your workspace, import and prepare geospatial data, clip global raster datasets to a country boundary, and visualize the results. The workflow includes using custom utilities for zonal statistics, merging results with administrative boundaries, and saving the outputs for further analysis. This hands-on approach provides practical experience with geospatial data processing, raster analysis, and the integration of Python geospatial libraries such as geopandas and rasterio.\n",
    "\n",
    "**Zonal statistics** are summary statistics (such as mean, sum, median, minimum, or maximum) calculated for values of a raster dataset within the boundaries of defined zones, such as polygons representing administrative regions or land cover types.\n"
   ]
  },
  {
   "cell_type": "markdown",
   "id": "45454706",
   "metadata": {},
   "source": [
    "## Setup and Imports"
   ]
  },
  {
   "cell_type": "code",
   "execution_count": 163,
   "id": "45a019cd",
   "metadata": {},
   "outputs": [
    {
     "name": "stdout",
     "output_type": "stream",
     "text": [
      "All packages imported successfully!\n",
      "GDAL version: 3.6.2\n",
      "GeoPandas version: 0.12.2\n",
      "Rasterio version: 1.3.6\n",
      "Pandas version: 1.5.3\n",
      "NumPy version: 1.24.3\n",
      "Matplotlib version: 3.6.3\n"
     ]
    }
   ],
   "source": [
    "from osgeo import gdal\n",
    "import geopandas, rasterio, pandas, numpy,matplotlib\n",
    "print(\"All packages imported successfully!\")\n",
    "print(f\"GDAL version: {gdal.__version__}\")\n",
    "print(f\"GeoPandas version: {geopandas.__version__}\")\n",
    "print(f\"Rasterio version: {rasterio.__version__}\")\n",
    "print(f\"Pandas version: {pandas.__version__}\")\n",
    "print(f\"NumPy version: {numpy.__version__}\")\n",
    "print(f\"Matplotlib version: {matplotlib.__version__}\")"
   ]
  },
  {
   "cell_type": "markdown",
   "id": "49a7ce40",
   "metadata": {},
   "source": [
    "### Required Packages"
   ]
  },
  {
   "cell_type": "code",
   "execution_count": 164,
   "id": "4e510b1e",
   "metadata": {},
   "outputs": [],
   "source": [
    "import sys\n",
    "from pathlib import Path\n",
    "import os\n",
    "import pandas as pd\n",
    "import numpy as np\n",
    "import geopandas as gp\n",
    "import matplotlib.pyplot as plt\n",
    "import seaborn as sns\n",
    "import rasterio\n",
    "from rasterio.mask import mask\n",
    "from rasterio.warp import calculate_default_transform, reproject, Resampling\n",
    "import warnings\n",
    "warnings.filterwarnings('ignore')"
   ]
  },
  {
   "cell_type": "markdown",
   "id": "5bfdcce3",
   "metadata": {},
   "source": [
    "### Workspace Directory Setup"
   ]
  },
  {
   "cell_type": "code",
   "execution_count": 165,
   "id": "d5ac7d2c",
   "metadata": {},
   "outputs": [],
   "source": [
    "\n",
    "DIR_WORKSPACE = Path.cwd().parents[0]\n",
    "DIR_DATA = DIR_WORKSPACE / \"nightlight-analysis/data\"\n",
    "DIR_SRC = DIR_WORKSPACE / \"nightlight-analysis/src\""
   ]
  },
  {
   "cell_type": "code",
   "execution_count": 166,
   "id": "a637ca68",
   "metadata": {},
   "outputs": [
    {
     "data": {
      "text/plain": [
       "WindowsPath('c:/Users/Geoffrey-RISA/Documents/GitHub/nightlight-analysis-Geoffrey/nightlight-analysis/data')"
      ]
     },
     "execution_count": 166,
     "metadata": {},
     "output_type": "execute_result"
    }
   ],
   "source": [
    "DIR_DATA"
   ]
  },
  {
   "cell_type": "markdown",
   "id": "92ccdb69",
   "metadata": {},
   "source": [
    "### Import Custom Python Script"
   ]
  },
  {
   "cell_type": "code",
   "execution_count": 167,
   "id": "4377d5f2",
   "metadata": {},
   "outputs": [],
   "source": [
    "# Add src directory to path to import our custom script\n",
    "sys.path.append(str(DIR_SRC))\n"
   ]
  },
  {
   "cell_type": "code",
   "execution_count": 168,
   "id": "860fa277",
   "metadata": {},
   "outputs": [
    {
     "ename": "ModuleNotFoundError",
     "evalue": "No module named 'spatial_utils'",
     "output_type": "error",
     "traceback": [
      "\u001b[31m---------------------------------------------------------------------------\u001b[39m",
      "\u001b[31mModuleNotFoundError\u001b[39m                       Traceback (most recent call last)",
      "\u001b[36mCell\u001b[39m\u001b[36m \u001b[39m\u001b[32mIn[168]\u001b[39m\u001b[32m, line 3\u001b[39m\n\u001b[32m      1\u001b[39m \u001b[38;5;66;03m# We can now import our custom package\u001b[39;00m\n\u001b[32m      2\u001b[39m \u001b[38;5;66;03m# There are cleaner ways to handle local imports but this works for now\u001b[39;00m\n\u001b[32m----> \u001b[39m\u001b[32m3\u001b[39m \u001b[38;5;28;01mfrom\u001b[39;00m\u001b[38;5;250m \u001b[39m\u001b[34;01mspatial_utils\u001b[39;00m\u001b[34;01m.\u001b[39;00m\u001b[34;01mzonal_stats\u001b[39;00m\u001b[38;5;250m \u001b[39m\u001b[38;5;28;01mimport\u001b[39;00m ZonalStatistics\n",
      "\u001b[31mModuleNotFoundError\u001b[39m: No module named 'spatial_utils'"
     ]
    }
   ],
   "source": [
    "# We can now import our custom package\n",
    "# There are cleaner ways to handle local imports but this works for now\n",
    "from spatial_utils.zonal_stats import ZonalStatistics"
   ]
  },
  {
   "cell_type": "markdown",
   "id": "8fe7e43e",
   "metadata": {
    "vscode": {
     "languageId": "markdown"
    }
   },
   "source": [
    "### Input Data Files \n",
    "For the night lights file, please make sure you unzip it first. "
   ]
  },
  {
   "cell_type": "code",
   "execution_count": null,
   "id": "db36f337",
   "metadata": {},
   "outputs": [],
   "source": [
    "# ==========================================\n",
    "# FILE PATHS\n",
    "# ===========================================\n",
    "\n",
    "# Unzipped night lights raster file with \"tif\" extension\n",
    "FILE_NTL = DIR_DATA / \"ntl/VNL_npp_2024_global_vcmslcfg_v2_c202502261200.average_masked.dat.tif\"\n",
    "\n",
    "# Shapefile with cell level (admin region level 4) boundaries \n",
    "FILE_SHP_ADM4 = DIR_DATA / \"geospatial/pop-demo-infra/adm4-pop-buildings.shp\"\n",
    "\n",
    "# Shapefile with national boundaries (admin region level 0)\n",
    "FILE_SHP_ADM0 = DIR_DATA / \"geospatial/adm-bounds/geoBoundaries-RWA-ADM0-all/geoBoundaries-RWA-ADM0.shp\""
   ]
  },
  {
   "cell_type": "markdown",
   "id": "e940ac74",
   "metadata": {},
   "source": [
    "## Zonal Statistics Analysis"
   ]
  },
  {
   "cell_type": "markdown",
   "id": "b9607e4b",
   "metadata": {},
   "source": [
    "### Clip Global Raster to Rwanda \n",
    "To make the raster file smaller and more manageable, we will clip (cut) it to the boundary of Rwanda. This step extracts only the portion of the raster that falls within Rwanda’s borders, reducing file size and improving processing efficiency."
   ]
  },
  {
   "cell_type": "code",
   "execution_count": null,
   "id": "0cade007",
   "metadata": {},
   "outputs": [],
   "source": [
    "def clip_raster_to_boundary(input_raster_path, boundary_gdf, output_path):\n",
    "    \"\"\"\n",
    "    Clip a global raster to a country boundary\n",
    "    \n",
    "    Parameters:\n",
    "    -----------\n",
    "    input_raster_path : str\n",
    "        Path to input raster file\n",
    "    boundary_gdf : geopandas.GeoDataFrame\n",
    "        Boundary for clipping\n",
    "    output_path : str\n",
    "        Path for output clipped raster\n",
    "    \n",
    "    Returns:\n",
    "    --------\n",
    "    str : Path to clipped raster\n",
    "    \"\"\"\n",
    "    print(f\"Clipping global raster to Rwanda boundary...\")\n",
    "    \n",
    "    with rasterio.open(input_raster_path) as src:\n",
    "        print(f\"Original raster info:\")\n",
    "        print(f\"  - Shape: {src.width} x {src.height}\")\n",
    "        print(f\"  - CRS: {src.crs}\")\n",
    "        print(f\"  - Bounds: {src.bounds}\")\n",
    "        print(f\"  - Resolution: {src.res}\")\n",
    "        \n",
    "        # Reproject boundary to match raster CRS if needed\n",
    "        if boundary_gdf.crs != src.crs:\n",
    "            print(f\"Reprojecting boundary from {boundary_gdf.crs} to {src.crs}\")\n",
    "            boundary_gdf = boundary_gdf.to_crs(src.crs)\n",
    "        \n",
    "        # Clip raster\n",
    "        clipped_data, clipped_transform = mask(\n",
    "            src, \n",
    "            boundary_gdf.geometry, \n",
    "            crop=True,\n",
    "            nodata=src.nodata\n",
    "        )\n",
    "        \n",
    "        # Update metadata\n",
    "        clipped_meta = src.meta.copy()\n",
    "        clipped_meta.update({\n",
    "            \"driver\": \"GTiff\",\n",
    "            \"height\": clipped_data.shape[1],\n",
    "            \"width\": clipped_data.shape[2],\n",
    "            \"transform\": clipped_transform\n",
    "        })\n",
    "        \n",
    "        # Create output directory if needed\n",
    "        os.makedirs(os.path.dirname(output_path), exist_ok=True)\n",
    "        \n",
    "        # Write clipped raster\n",
    "        with rasterio.open(output_path, \"w\", **clipped_meta) as dest:\n",
    "            dest.write(clipped_data)\n",
    "        \n",
    "        print(f\"✓ Clipped raster saved to: {output_path}\")\n",
    "        print(f\"Clipped raster info:\")\n",
    "        print(f\"  - Shape: {clipped_data.shape[2]} x {clipped_data.shape[1]}\")\n",
    "        print(f\"  - Data range: {np.nanmin(clipped_data)} to {np.nanmax(clipped_data)}\")\n",
    "        \n",
    "    return output_path"
   ]
  },
  {
   "cell_type": "code",
   "execution_count": null,
   "id": "2a375006",
   "metadata": {},
   "outputs": [
    {
     "ename": "DriverError",
     "evalue": "c:\\Users\\Geoffrey-RISA\\Documents\\GitHub\\nightlight-analysis-Geoffrey\\nightlight-analysis\\data\\geospatial\\adm-bounds\\geoBoundaries-RWA-ADM0-all\\geoBoundaries-RWA-ADM0.shp: No such file or directory",
     "output_type": "error",
     "traceback": [
      "\u001b[31m---------------------------------------------------------------------------\u001b[39m",
      "\u001b[31mCPLE_OpenFailedError\u001b[39m                      Traceback (most recent call last)",
      "\u001b[36mFile \u001b[39m\u001b[32mfiona\\ogrext.pyx:136\u001b[39m, in \u001b[36mfiona.ogrext.gdal_open_vector\u001b[39m\u001b[34m()\u001b[39m\n",
      "\u001b[36mFile \u001b[39m\u001b[32mfiona\\_err.pyx:291\u001b[39m, in \u001b[36mfiona._err.exc_wrap_pointer\u001b[39m\u001b[34m()\u001b[39m\n",
      "\u001b[31mCPLE_OpenFailedError\u001b[39m: c:\\Users\\Geoffrey-RISA\\Documents\\GitHub\\nightlight-analysis-Geoffrey\\nightlight-analysis\\data\\geospatial\\adm-bounds\\geoBoundaries-RWA-ADM0-all\\geoBoundaries-RWA-ADM0.shp: No such file or directory",
      "\nDuring handling of the above exception, another exception occurred:\n",
      "\u001b[31mDriverError\u001b[39m                               Traceback (most recent call last)",
      "\u001b[36mCell\u001b[39m\u001b[36m \u001b[39m\u001b[32mIn[162]\u001b[39m\u001b[32m, line 9\u001b[39m\n\u001b[32m      6\u001b[39m clipped_raster_path = DIR_DATA / \u001b[33m\"\u001b[39m\u001b[33mntl/rwanda_2024_ntl.tif\u001b[39m\u001b[33m\"\u001b[39m\n\u001b[32m      8\u001b[39m \u001b[38;5;66;03m# Load level 0 boundaries in a GeoDataframe\u001b[39;00m\n\u001b[32m----> \u001b[39m\u001b[32m9\u001b[39m gdf_adm0 = \u001b[43mgp\u001b[49m\u001b[43m.\u001b[49m\u001b[43mread_file\u001b[49m\u001b[43m(\u001b[49m\u001b[43mFILE_SHP_ADM0\u001b[49m\u001b[43m)\u001b[49m\n\u001b[32m     12\u001b[39m \u001b[38;5;66;03m# Call the clip raster function which utilises rasterio package\u001b[39;00m\n\u001b[32m     13\u001b[39m rwanda_raster_path = clip_raster_to_boundary(\n\u001b[32m     14\u001b[39m     FILE_NTL, \n\u001b[32m     15\u001b[39m     gdf_adm0, \n\u001b[32m     16\u001b[39m     clipped_raster_path\n\u001b[32m     17\u001b[39m )\n",
      "\u001b[36mFile \u001b[39m\u001b[32mc:\\Anaconda3\\envs\\.venv-ntl\\Lib\\site-packages\\geopandas\\io\\file.py:259\u001b[39m, in \u001b[36m_read_file\u001b[39m\u001b[34m(filename, bbox, mask, rows, engine, **kwargs)\u001b[39m\n\u001b[32m    256\u001b[39m     path_or_bytes = filename\n\u001b[32m    258\u001b[39m \u001b[38;5;28;01mif\u001b[39;00m engine == \u001b[33m\"\u001b[39m\u001b[33mfiona\u001b[39m\u001b[33m\"\u001b[39m:\n\u001b[32m--> \u001b[39m\u001b[32m259\u001b[39m     \u001b[38;5;28;01mreturn\u001b[39;00m \u001b[43m_read_file_fiona\u001b[49m\u001b[43m(\u001b[49m\n\u001b[32m    260\u001b[39m \u001b[43m        \u001b[49m\u001b[43mpath_or_bytes\u001b[49m\u001b[43m,\u001b[49m\u001b[43m \u001b[49m\u001b[43mfrom_bytes\u001b[49m\u001b[43m,\u001b[49m\u001b[43m \u001b[49m\u001b[43mbbox\u001b[49m\u001b[43m=\u001b[49m\u001b[43mbbox\u001b[49m\u001b[43m,\u001b[49m\u001b[43m \u001b[49m\u001b[43mmask\u001b[49m\u001b[43m=\u001b[49m\u001b[43mmask\u001b[49m\u001b[43m,\u001b[49m\u001b[43m \u001b[49m\u001b[43mrows\u001b[49m\u001b[43m=\u001b[49m\u001b[43mrows\u001b[49m\u001b[43m,\u001b[49m\u001b[43m \u001b[49m\u001b[43m*\u001b[49m\u001b[43m*\u001b[49m\u001b[43mkwargs\u001b[49m\n\u001b[32m    261\u001b[39m \u001b[43m    \u001b[49m\u001b[43m)\u001b[49m\n\u001b[32m    262\u001b[39m \u001b[38;5;28;01melif\u001b[39;00m engine == \u001b[33m\"\u001b[39m\u001b[33mpyogrio\u001b[39m\u001b[33m\"\u001b[39m:\n\u001b[32m    263\u001b[39m     \u001b[38;5;28;01mreturn\u001b[39;00m _read_file_pyogrio(\n\u001b[32m    264\u001b[39m         path_or_bytes, bbox=bbox, mask=mask, rows=rows, **kwargs\n\u001b[32m    265\u001b[39m     )\n",
      "\u001b[36mFile \u001b[39m\u001b[32mc:\\Anaconda3\\envs\\.venv-ntl\\Lib\\site-packages\\geopandas\\io\\file.py:303\u001b[39m, in \u001b[36m_read_file_fiona\u001b[39m\u001b[34m(path_or_bytes, from_bytes, bbox, mask, rows, where, **kwargs)\u001b[39m\n\u001b[32m    300\u001b[39m     reader = fiona.open\n\u001b[32m    302\u001b[39m \u001b[38;5;28;01mwith\u001b[39;00m fiona_env():\n\u001b[32m--> \u001b[39m\u001b[32m303\u001b[39m     \u001b[38;5;28;01mwith\u001b[39;00m \u001b[43mreader\u001b[49m\u001b[43m(\u001b[49m\u001b[43mpath_or_bytes\u001b[49m\u001b[43m,\u001b[49m\u001b[43m \u001b[49m\u001b[43m*\u001b[49m\u001b[43m*\u001b[49m\u001b[43mkwargs\u001b[49m\u001b[43m)\u001b[49m \u001b[38;5;28;01mas\u001b[39;00m features:\n\u001b[32m    304\u001b[39m         crs = features.crs_wkt\n\u001b[32m    305\u001b[39m         \u001b[38;5;66;03m# attempt to get EPSG code\u001b[39;00m\n",
      "\u001b[36mFile \u001b[39m\u001b[32mc:\\Anaconda3\\envs\\.venv-ntl\\Lib\\site-packages\\fiona\\env.py:457\u001b[39m, in \u001b[36mensure_env_with_credentials.<locals>.wrapper\u001b[39m\u001b[34m(*args, **kwds)\u001b[39m\n\u001b[32m    454\u001b[39m     session = DummySession()\n\u001b[32m    456\u001b[39m \u001b[38;5;28;01mwith\u001b[39;00m env_ctor(session=session):\n\u001b[32m--> \u001b[39m\u001b[32m457\u001b[39m     \u001b[38;5;28;01mreturn\u001b[39;00m \u001b[43mf\u001b[49m\u001b[43m(\u001b[49m\u001b[43m*\u001b[49m\u001b[43margs\u001b[49m\u001b[43m,\u001b[49m\u001b[43m \u001b[49m\u001b[43m*\u001b[49m\u001b[43m*\u001b[49m\u001b[43mkwds\u001b[49m\u001b[43m)\u001b[49m\n",
      "\u001b[36mFile \u001b[39m\u001b[32mc:\\Anaconda3\\envs\\.venv-ntl\\Lib\\site-packages\\fiona\\__init__.py:335\u001b[39m, in \u001b[36mopen\u001b[39m\u001b[34m(fp, mode, driver, schema, crs, encoding, layer, vfs, enabled_drivers, crs_wkt, allow_unsupported_drivers, **kwargs)\u001b[39m\n\u001b[32m    332\u001b[39m     path = parse_path(fp)\n\u001b[32m    334\u001b[39m \u001b[38;5;28;01mif\u001b[39;00m mode \u001b[38;5;129;01min\u001b[39;00m (\u001b[33m\"\u001b[39m\u001b[33ma\u001b[39m\u001b[33m\"\u001b[39m, \u001b[33m\"\u001b[39m\u001b[33mr\u001b[39m\u001b[33m\"\u001b[39m):\n\u001b[32m--> \u001b[39m\u001b[32m335\u001b[39m     colxn = \u001b[43mCollection\u001b[49m\u001b[43m(\u001b[49m\n\u001b[32m    336\u001b[39m \u001b[43m        \u001b[49m\u001b[43mpath\u001b[49m\u001b[43m,\u001b[49m\n\u001b[32m    337\u001b[39m \u001b[43m        \u001b[49m\u001b[43mmode\u001b[49m\u001b[43m,\u001b[49m\n\u001b[32m    338\u001b[39m \u001b[43m        \u001b[49m\u001b[43mdriver\u001b[49m\u001b[43m=\u001b[49m\u001b[43mdriver\u001b[49m\u001b[43m,\u001b[49m\n\u001b[32m    339\u001b[39m \u001b[43m        \u001b[49m\u001b[43mencoding\u001b[49m\u001b[43m=\u001b[49m\u001b[43mencoding\u001b[49m\u001b[43m,\u001b[49m\n\u001b[32m    340\u001b[39m \u001b[43m        \u001b[49m\u001b[43mlayer\u001b[49m\u001b[43m=\u001b[49m\u001b[43mlayer\u001b[49m\u001b[43m,\u001b[49m\n\u001b[32m    341\u001b[39m \u001b[43m        \u001b[49m\u001b[43menabled_drivers\u001b[49m\u001b[43m=\u001b[49m\u001b[43menabled_drivers\u001b[49m\u001b[43m,\u001b[49m\n\u001b[32m    342\u001b[39m \u001b[43m        \u001b[49m\u001b[43mallow_unsupported_drivers\u001b[49m\u001b[43m=\u001b[49m\u001b[43mallow_unsupported_drivers\u001b[49m\u001b[43m,\u001b[49m\n\u001b[32m    343\u001b[39m \u001b[43m        \u001b[49m\u001b[43m*\u001b[49m\u001b[43m*\u001b[49m\u001b[43mkwargs\u001b[49m\n\u001b[32m    344\u001b[39m \u001b[43m    \u001b[49m\u001b[43m)\u001b[49m\n\u001b[32m    345\u001b[39m \u001b[38;5;28;01melif\u001b[39;00m mode == \u001b[33m\"\u001b[39m\u001b[33mw\u001b[39m\u001b[33m\"\u001b[39m:\n\u001b[32m    346\u001b[39m     colxn = Collection(\n\u001b[32m    347\u001b[39m         path,\n\u001b[32m    348\u001b[39m         mode,\n\u001b[32m   (...)\u001b[39m\u001b[32m    357\u001b[39m         **kwargs\n\u001b[32m    358\u001b[39m     )\n",
      "\u001b[36mFile \u001b[39m\u001b[32mc:\\Anaconda3\\envs\\.venv-ntl\\Lib\\site-packages\\fiona\\collection.py:234\u001b[39m, in \u001b[36mCollection.__init__\u001b[39m\u001b[34m(self, path, mode, driver, schema, crs, encoding, layer, vsi, archive, enabled_drivers, crs_wkt, ignore_fields, ignore_geometry, include_fields, wkt_version, allow_unsupported_drivers, **kwargs)\u001b[39m\n\u001b[32m    232\u001b[39m \u001b[38;5;28;01mif\u001b[39;00m \u001b[38;5;28mself\u001b[39m.mode == \u001b[33m\"\u001b[39m\u001b[33mr\u001b[39m\u001b[33m\"\u001b[39m:\n\u001b[32m    233\u001b[39m     \u001b[38;5;28mself\u001b[39m.session = Session()\n\u001b[32m--> \u001b[39m\u001b[32m234\u001b[39m     \u001b[38;5;28;43mself\u001b[39;49m\u001b[43m.\u001b[49m\u001b[43msession\u001b[49m\u001b[43m.\u001b[49m\u001b[43mstart\u001b[49m\u001b[43m(\u001b[49m\u001b[38;5;28;43mself\u001b[39;49m\u001b[43m,\u001b[49m\u001b[43m \u001b[49m\u001b[43m*\u001b[49m\u001b[43m*\u001b[49m\u001b[43mkwargs\u001b[49m\u001b[43m)\u001b[49m\n\u001b[32m    235\u001b[39m \u001b[38;5;28;01melif\u001b[39;00m \u001b[38;5;28mself\u001b[39m.mode \u001b[38;5;129;01min\u001b[39;00m (\u001b[33m\"\u001b[39m\u001b[33ma\u001b[39m\u001b[33m\"\u001b[39m, \u001b[33m\"\u001b[39m\u001b[33mw\u001b[39m\u001b[33m\"\u001b[39m):\n\u001b[32m    236\u001b[39m     \u001b[38;5;28mself\u001b[39m.session = WritingSession()\n",
      "\u001b[36mFile \u001b[39m\u001b[32mfiona\\ogrext.pyx:587\u001b[39m, in \u001b[36mfiona.ogrext.Session.start\u001b[39m\u001b[34m()\u001b[39m\n",
      "\u001b[36mFile \u001b[39m\u001b[32mfiona\\ogrext.pyx:143\u001b[39m, in \u001b[36mfiona.ogrext.gdal_open_vector\u001b[39m\u001b[34m()\u001b[39m\n",
      "\u001b[31mDriverError\u001b[39m: c:\\Users\\Geoffrey-RISA\\Documents\\GitHub\\nightlight-analysis-Geoffrey\\nightlight-analysis\\data\\geospatial\\adm-bounds\\geoBoundaries-RWA-ADM0-all\\geoBoundaries-RWA-ADM0.shp: No such file or directory"
     ]
    }
   ],
   "source": [
    "# =============================================\n",
    "# CLIP THE GLOBAL RASTER TO RWANDA\n",
    "# ===============================================\n",
    "\n",
    "# Specify output clipped raster file\n",
    "clipped_raster_path = DIR_DATA / \"ntl/rwanda_2024_ntl.tif\"\n",
    "\n",
    "# Load level 0 boundaries in a GeoDataframe\n",
    "gdf_adm0 = gp.read_file(FILE_SHP_ADM0)\n",
    "\n",
    "\n",
    "# Call the clip raster function which utilises rasterio package\n",
    "rwanda_raster_path = clip_raster_to_boundary(\n",
    "    FILE_NTL, \n",
    "    gdf_adm0, \n",
    "    clipped_raster_path\n",
    ")\n"
   ]
  },
  {
   "cell_type": "markdown",
   "id": "51b329c3",
   "metadata": {},
   "source": [
    "### Visualize Clipped Raster"
   ]
  },
  {
   "cell_type": "code",
   "execution_count": 169,
   "id": "0f7bc40b",
   "metadata": {},
   "outputs": [
    {
     "ename": "DriverError",
     "evalue": "c:\\Users\\Geoffrey-RISA\\Documents\\GitHub\\nightlight-analysis-Geoffrey\\nightlight-analysis\\data\\geospatial\\pop-demo-infra\\adm4-pop-buildings.shp: No such file or directory",
     "output_type": "error",
     "traceback": [
      "\u001b[31m---------------------------------------------------------------------------\u001b[39m",
      "\u001b[31mCPLE_OpenFailedError\u001b[39m                      Traceback (most recent call last)",
      "\u001b[36mFile \u001b[39m\u001b[32mfiona\\ogrext.pyx:136\u001b[39m, in \u001b[36mfiona.ogrext.gdal_open_vector\u001b[39m\u001b[34m()\u001b[39m\n",
      "\u001b[36mFile \u001b[39m\u001b[32mfiona\\_err.pyx:291\u001b[39m, in \u001b[36mfiona._err.exc_wrap_pointer\u001b[39m\u001b[34m()\u001b[39m\n",
      "\u001b[31mCPLE_OpenFailedError\u001b[39m: c:\\Users\\Geoffrey-RISA\\Documents\\GitHub\\nightlight-analysis-Geoffrey\\nightlight-analysis\\data\\geospatial\\pop-demo-infra\\adm4-pop-buildings.shp: No such file or directory",
      "\nDuring handling of the above exception, another exception occurred:\n",
      "\u001b[31mDriverError\u001b[39m                               Traceback (most recent call last)",
      "\u001b[36mCell\u001b[39m\u001b[36m \u001b[39m\u001b[32mIn[169]\u001b[39m\u001b[32m, line 6\u001b[39m\n\u001b[32m      1\u001b[39m \u001b[38;5;66;03m# =========================================\u001b[39;00m\n\u001b[32m      2\u001b[39m \u001b[38;5;66;03m# LOAD AND VISUALIZE THE CLIPPED RASTER\u001b[39;00m\n\u001b[32m      3\u001b[39m \u001b[38;5;66;03m# =========================================\u001b[39;00m\n\u001b[32m      4\u001b[39m \n\u001b[32m      5\u001b[39m \u001b[38;5;66;03m# Load cell boundaries\u001b[39;00m\n\u001b[32m----> \u001b[39m\u001b[32m6\u001b[39m gdf_adm4 = \u001b[43mgp\u001b[49m\u001b[43m.\u001b[49m\u001b[43mread_file\u001b[49m\u001b[43m(\u001b[49m\u001b[43mFILE_SHP_ADM4\u001b[49m\u001b[43m)\u001b[49m\n\u001b[32m      8\u001b[39m \u001b[38;5;28;01mwith\u001b[39;00m rasterio.open(rwanda_raster_path) \u001b[38;5;28;01mas\u001b[39;00m src:\n\u001b[32m      9\u001b[39m     rwanda_nightlight = src.read(\u001b[32m1\u001b[39m)\n",
      "\u001b[36mFile \u001b[39m\u001b[32mc:\\Anaconda3\\envs\\.venv-ntl\\Lib\\site-packages\\geopandas\\io\\file.py:259\u001b[39m, in \u001b[36m_read_file\u001b[39m\u001b[34m(filename, bbox, mask, rows, engine, **kwargs)\u001b[39m\n\u001b[32m    256\u001b[39m     path_or_bytes = filename\n\u001b[32m    258\u001b[39m \u001b[38;5;28;01mif\u001b[39;00m engine == \u001b[33m\"\u001b[39m\u001b[33mfiona\u001b[39m\u001b[33m\"\u001b[39m:\n\u001b[32m--> \u001b[39m\u001b[32m259\u001b[39m     \u001b[38;5;28;01mreturn\u001b[39;00m \u001b[43m_read_file_fiona\u001b[49m\u001b[43m(\u001b[49m\n\u001b[32m    260\u001b[39m \u001b[43m        \u001b[49m\u001b[43mpath_or_bytes\u001b[49m\u001b[43m,\u001b[49m\u001b[43m \u001b[49m\u001b[43mfrom_bytes\u001b[49m\u001b[43m,\u001b[49m\u001b[43m \u001b[49m\u001b[43mbbox\u001b[49m\u001b[43m=\u001b[49m\u001b[43mbbox\u001b[49m\u001b[43m,\u001b[49m\u001b[43m \u001b[49m\u001b[43mmask\u001b[49m\u001b[43m=\u001b[49m\u001b[43mmask\u001b[49m\u001b[43m,\u001b[49m\u001b[43m \u001b[49m\u001b[43mrows\u001b[49m\u001b[43m=\u001b[49m\u001b[43mrows\u001b[49m\u001b[43m,\u001b[49m\u001b[43m \u001b[49m\u001b[43m*\u001b[49m\u001b[43m*\u001b[49m\u001b[43mkwargs\u001b[49m\n\u001b[32m    261\u001b[39m \u001b[43m    \u001b[49m\u001b[43m)\u001b[49m\n\u001b[32m    262\u001b[39m \u001b[38;5;28;01melif\u001b[39;00m engine == \u001b[33m\"\u001b[39m\u001b[33mpyogrio\u001b[39m\u001b[33m\"\u001b[39m:\n\u001b[32m    263\u001b[39m     \u001b[38;5;28;01mreturn\u001b[39;00m _read_file_pyogrio(\n\u001b[32m    264\u001b[39m         path_or_bytes, bbox=bbox, mask=mask, rows=rows, **kwargs\n\u001b[32m    265\u001b[39m     )\n",
      "\u001b[36mFile \u001b[39m\u001b[32mc:\\Anaconda3\\envs\\.venv-ntl\\Lib\\site-packages\\geopandas\\io\\file.py:303\u001b[39m, in \u001b[36m_read_file_fiona\u001b[39m\u001b[34m(path_or_bytes, from_bytes, bbox, mask, rows, where, **kwargs)\u001b[39m\n\u001b[32m    300\u001b[39m     reader = fiona.open\n\u001b[32m    302\u001b[39m \u001b[38;5;28;01mwith\u001b[39;00m fiona_env():\n\u001b[32m--> \u001b[39m\u001b[32m303\u001b[39m     \u001b[38;5;28;01mwith\u001b[39;00m \u001b[43mreader\u001b[49m\u001b[43m(\u001b[49m\u001b[43mpath_or_bytes\u001b[49m\u001b[43m,\u001b[49m\u001b[43m \u001b[49m\u001b[43m*\u001b[49m\u001b[43m*\u001b[49m\u001b[43mkwargs\u001b[49m\u001b[43m)\u001b[49m \u001b[38;5;28;01mas\u001b[39;00m features:\n\u001b[32m    304\u001b[39m         crs = features.crs_wkt\n\u001b[32m    305\u001b[39m         \u001b[38;5;66;03m# attempt to get EPSG code\u001b[39;00m\n",
      "\u001b[36mFile \u001b[39m\u001b[32mc:\\Anaconda3\\envs\\.venv-ntl\\Lib\\site-packages\\fiona\\env.py:457\u001b[39m, in \u001b[36mensure_env_with_credentials.<locals>.wrapper\u001b[39m\u001b[34m(*args, **kwds)\u001b[39m\n\u001b[32m    454\u001b[39m     session = DummySession()\n\u001b[32m    456\u001b[39m \u001b[38;5;28;01mwith\u001b[39;00m env_ctor(session=session):\n\u001b[32m--> \u001b[39m\u001b[32m457\u001b[39m     \u001b[38;5;28;01mreturn\u001b[39;00m \u001b[43mf\u001b[49m\u001b[43m(\u001b[49m\u001b[43m*\u001b[49m\u001b[43margs\u001b[49m\u001b[43m,\u001b[49m\u001b[43m \u001b[49m\u001b[43m*\u001b[49m\u001b[43m*\u001b[49m\u001b[43mkwds\u001b[49m\u001b[43m)\u001b[49m\n",
      "\u001b[36mFile \u001b[39m\u001b[32mc:\\Anaconda3\\envs\\.venv-ntl\\Lib\\site-packages\\fiona\\__init__.py:335\u001b[39m, in \u001b[36mopen\u001b[39m\u001b[34m(fp, mode, driver, schema, crs, encoding, layer, vfs, enabled_drivers, crs_wkt, allow_unsupported_drivers, **kwargs)\u001b[39m\n\u001b[32m    332\u001b[39m     path = parse_path(fp)\n\u001b[32m    334\u001b[39m \u001b[38;5;28;01mif\u001b[39;00m mode \u001b[38;5;129;01min\u001b[39;00m (\u001b[33m\"\u001b[39m\u001b[33ma\u001b[39m\u001b[33m\"\u001b[39m, \u001b[33m\"\u001b[39m\u001b[33mr\u001b[39m\u001b[33m\"\u001b[39m):\n\u001b[32m--> \u001b[39m\u001b[32m335\u001b[39m     colxn = \u001b[43mCollection\u001b[49m\u001b[43m(\u001b[49m\n\u001b[32m    336\u001b[39m \u001b[43m        \u001b[49m\u001b[43mpath\u001b[49m\u001b[43m,\u001b[49m\n\u001b[32m    337\u001b[39m \u001b[43m        \u001b[49m\u001b[43mmode\u001b[49m\u001b[43m,\u001b[49m\n\u001b[32m    338\u001b[39m \u001b[43m        \u001b[49m\u001b[43mdriver\u001b[49m\u001b[43m=\u001b[49m\u001b[43mdriver\u001b[49m\u001b[43m,\u001b[49m\n\u001b[32m    339\u001b[39m \u001b[43m        \u001b[49m\u001b[43mencoding\u001b[49m\u001b[43m=\u001b[49m\u001b[43mencoding\u001b[49m\u001b[43m,\u001b[49m\n\u001b[32m    340\u001b[39m \u001b[43m        \u001b[49m\u001b[43mlayer\u001b[49m\u001b[43m=\u001b[49m\u001b[43mlayer\u001b[49m\u001b[43m,\u001b[49m\n\u001b[32m    341\u001b[39m \u001b[43m        \u001b[49m\u001b[43menabled_drivers\u001b[49m\u001b[43m=\u001b[49m\u001b[43menabled_drivers\u001b[49m\u001b[43m,\u001b[49m\n\u001b[32m    342\u001b[39m \u001b[43m        \u001b[49m\u001b[43mallow_unsupported_drivers\u001b[49m\u001b[43m=\u001b[49m\u001b[43mallow_unsupported_drivers\u001b[49m\u001b[43m,\u001b[49m\n\u001b[32m    343\u001b[39m \u001b[43m        \u001b[49m\u001b[43m*\u001b[49m\u001b[43m*\u001b[49m\u001b[43mkwargs\u001b[49m\n\u001b[32m    344\u001b[39m \u001b[43m    \u001b[49m\u001b[43m)\u001b[49m\n\u001b[32m    345\u001b[39m \u001b[38;5;28;01melif\u001b[39;00m mode == \u001b[33m\"\u001b[39m\u001b[33mw\u001b[39m\u001b[33m\"\u001b[39m:\n\u001b[32m    346\u001b[39m     colxn = Collection(\n\u001b[32m    347\u001b[39m         path,\n\u001b[32m    348\u001b[39m         mode,\n\u001b[32m   (...)\u001b[39m\u001b[32m    357\u001b[39m         **kwargs\n\u001b[32m    358\u001b[39m     )\n",
      "\u001b[36mFile \u001b[39m\u001b[32mc:\\Anaconda3\\envs\\.venv-ntl\\Lib\\site-packages\\fiona\\collection.py:234\u001b[39m, in \u001b[36mCollection.__init__\u001b[39m\u001b[34m(self, path, mode, driver, schema, crs, encoding, layer, vsi, archive, enabled_drivers, crs_wkt, ignore_fields, ignore_geometry, include_fields, wkt_version, allow_unsupported_drivers, **kwargs)\u001b[39m\n\u001b[32m    232\u001b[39m \u001b[38;5;28;01mif\u001b[39;00m \u001b[38;5;28mself\u001b[39m.mode == \u001b[33m\"\u001b[39m\u001b[33mr\u001b[39m\u001b[33m\"\u001b[39m:\n\u001b[32m    233\u001b[39m     \u001b[38;5;28mself\u001b[39m.session = Session()\n\u001b[32m--> \u001b[39m\u001b[32m234\u001b[39m     \u001b[38;5;28;43mself\u001b[39;49m\u001b[43m.\u001b[49m\u001b[43msession\u001b[49m\u001b[43m.\u001b[49m\u001b[43mstart\u001b[49m\u001b[43m(\u001b[49m\u001b[38;5;28;43mself\u001b[39;49m\u001b[43m,\u001b[49m\u001b[43m \u001b[49m\u001b[43m*\u001b[49m\u001b[43m*\u001b[49m\u001b[43mkwargs\u001b[49m\u001b[43m)\u001b[49m\n\u001b[32m    235\u001b[39m \u001b[38;5;28;01melif\u001b[39;00m \u001b[38;5;28mself\u001b[39m.mode \u001b[38;5;129;01min\u001b[39;00m (\u001b[33m\"\u001b[39m\u001b[33ma\u001b[39m\u001b[33m\"\u001b[39m, \u001b[33m\"\u001b[39m\u001b[33mw\u001b[39m\u001b[33m\"\u001b[39m):\n\u001b[32m    236\u001b[39m     \u001b[38;5;28mself\u001b[39m.session = WritingSession()\n",
      "\u001b[36mFile \u001b[39m\u001b[32mfiona\\ogrext.pyx:587\u001b[39m, in \u001b[36mfiona.ogrext.Session.start\u001b[39m\u001b[34m()\u001b[39m\n",
      "\u001b[36mFile \u001b[39m\u001b[32mfiona\\ogrext.pyx:143\u001b[39m, in \u001b[36mfiona.ogrext.gdal_open_vector\u001b[39m\u001b[34m()\u001b[39m\n",
      "\u001b[31mDriverError\u001b[39m: c:\\Users\\Geoffrey-RISA\\Documents\\GitHub\\nightlight-analysis-Geoffrey\\nightlight-analysis\\data\\geospatial\\pop-demo-infra\\adm4-pop-buildings.shp: No such file or directory"
     ]
    }
   ],
   "source": [
    "# =========================================\n",
    "# LOAD AND VISUALIZE THE CLIPPED RASTER\n",
    "# =========================================\n",
    "\n",
    "# Load cell boundaries\n",
    "gdf_adm4 = gp.read_file(FILE_SHP_ADM4)\n",
    "\n",
    "with rasterio.open(rwanda_raster_path) as src:\n",
    "    rwanda_nightlight = src.read(1)\n",
    "    rwanda_extent = [src.bounds.left, src.bounds.right, src.bounds.bottom, src.bounds.top]\n",
    "\n",
    "# Create visualization\n",
    "plt.figure(figsize=(15, 10))\n",
    "\n",
    "# Plot 1: Clipped raster\n",
    "plt.subplot(2, 2, 1)\n",
    "plt.imshow(rwanda_nightlight, extent=rwanda_extent, cmap='viridis', alpha=0.8)\n",
    "plt.colorbar(label='Nightlight Intensity', shrink=0.7)\n",
    "plt.title('Rwanda Nightlight Data (Clipped)')\n",
    "plt.xlabel('Longitude')\n",
    "plt.ylabel('Latitude')\n",
    "\n",
    "# Plot 2: Raster with district boundaries\n",
    "plt.subplot(2, 2, 2)\n",
    "plt.imshow(rwanda_nightlight, extent=rwanda_extent, cmap='viridis', alpha=0.8)\n",
    "rwanda_districts_plot = gdf_adm4.to_crs(gdf_adm0.crs) if gdf_adm4.crs != gdf_adm0.crs else gdf_adm4\n",
    "rwanda_districts_plot.boundary.plot(ax=plt.gca(), color='white', linewidth=0.5)\n",
    "plt.colorbar(label='Nightlight Intensity', shrink=0.7)\n",
    "plt.title('Rwanda Nightlight with District Boundaries')\n",
    "plt.xlabel('Longitude')\n",
    "plt.ylabel('Latitude')"
   ]
  },
  {
   "cell_type": "markdown",
   "id": "d7c0dad2",
   "metadata": {},
   "source": [
    "### Generate Cell Level Zonal Statistics"
   ]
  },
  {
   "cell_type": "code",
   "execution_count": null,
   "id": "b107a62b",
   "metadata": {},
   "outputs": [],
   "source": [
    "# ===================================================\n",
    "# GENERATING ZONAL STATISTICS WITH A CUSTOM SCRIPT\n",
    "# ===================================================\n",
    "\n",
    "# Create ZonalStatistics object using the clipped Rwanda data with\n",
    "# the following args\n",
    "# 1. Path of clipped night lights raster/image: rwanda_raster_path\n",
    "# 2. Path of administrative boundaries shapefile: FILE_SHP_ADM4\n",
    "# 3. Administrative level: 4\n",
    "\n",
    "admin_level = \"cell_id\"\n",
    "\n",
    "zs = ZonalStatistics(rwanda_raster_path, FILE_SHP_ADM4, admin_level)\n"
   ]
  },
  {
   "cell_type": "code",
   "execution_count": null,
   "id": "df0c36e8",
   "metadata": {},
   "outputs": [],
   "source": [
    "# Load the data (this will print information about the datasets)\n",
    "zs.load_data()\n"
   ]
  },
  {
   "cell_type": "code",
   "execution_count": null,
   "id": "e9e28e42",
   "metadata": {},
   "outputs": [],
   "source": [
    "# =======================================\n",
    "# DEFINE WHICH STATISTICS TO CALCULATE\n",
    "# =======================================\n",
    "stats_to_calculate = ['mean', 'median', 'count', \"sum\"]\n",
    "\n",
    "print(f\"Calculating statistics: {stats_to_calculate}\")\n",
    "print(\"This may take a few minutes depending on data size...\")\n",
    "\n",
    "# Calculate statistics\n",
    "df_stats = zs.calculate_statistics(stats_to_calculate)\n",
    "\n",
    "# Display results\n",
    "print(f\"\\nAnalysis complete! Results shape: {df_stats.shape}\")\n",
    "display(df_stats.head(10))"
   ]
  },
  {
   "cell_type": "code",
   "execution_count": null,
   "id": "f691f255",
   "metadata": {},
   "outputs": [],
   "source": [
    "# ==================================================\n",
    "# SAVE RESULTS\n",
    "# ==================================================\n",
    "\n",
    "# Ensure we grab region names from original shapefile\n",
    "cols2keep = ['cell_id', 'province_n', 'district_n', 'sector_nam', 'cell_name']\n",
    "df_stats2 = df_stats.merge(gdf_adm4[cols2keep], left_on=\"admin_name\", right_on='cell_id', how='left')\n",
    "\n",
    "# Save results with the following columns\n",
    "cols2keep = ['province_n', 'district_n', 'sector_nam',  'cell_name', 'mean', 'median', 'count',\n",
    "       'sum']\n",
    "\n",
    "df_stats2[cols2keep].to_csv(DIR_DATA / \"ntl/rw-adm4-ntl-stats.csv\", index=False)"
   ]
  },
  {
   "cell_type": "code",
   "execution_count": null,
   "id": "7d8839dc",
   "metadata": {},
   "outputs": [],
   "source": [
    "## Report on Cells with Largest Night Light Values\n",
    "largest_cells = df_stats2.nlargest(10, 'mean')\n",
    "print(\"Cells with the largest night light values:\")\n",
    "display(largest_cells)"
   ]
  }
 ],
 "metadata": {
  "kernelspec": {
   "display_name": ".venv-ntl",
   "language": "python",
   "name": "python3"
  },
  "language_info": {
   "codemirror_mode": {
    "name": "ipython",
    "version": 3
   },
   "file_extension": ".py",
   "mimetype": "text/x-python",
   "name": "python",
   "nbconvert_exporter": "python",
   "pygments_lexer": "ipython3",
   "version": "3.11.6"
  }
 },
 "nbformat": 4,
 "nbformat_minor": 5
}
